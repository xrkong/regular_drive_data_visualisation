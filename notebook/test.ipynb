{
 "cells": [
  {
   "cell_type": "code",
   "execution_count": 14,
   "metadata": {},
   "outputs": [],
   "source": [
    "import argparse\n",
    "\n",
    "def parse_args(args):\n",
    "    arg_parser = argparse.ArgumentParser(description=\"ROS bag processing tool. By xrkong\")\n",
    "    # process rosbag file\n",
    "    arg_parser.add_argument(\"-r\", \"--rosbag_path\", \n",
    "                        type=str, \n",
    "                        help=\"Path to the rosbag file, acceptable file types are .db3 and .mcap\")\n",
    "    arg_parser.add_argument(\"-g\", \"--gps-topic\", \n",
    "                        type=str, \n",
    "                        default=\"/sbg/gps_pos\",  \n",
    "                        help=\"Name of the GPS topic in the rosbag. Defaults to '/gps'.\")\n",
    "    arg_parser.add_argument(\"-t\", \"--timestamp\", \n",
    "                        type=float, \n",
    "                        help=\"Timestamp for the rosbag processing in seconds (e.g., 123.123456). If not provided, only draw path in rosbag.\",\n",
    "                        default=None)\n",
    "    arg_parser.add_argument(\"-o\", \"--output-path\", \n",
    "                        type=str, \n",
    "                        default=\"./output\", \n",
    "                        help=\"Path to the output directory. If it doesn't exist, it will be created.\")\n",
    "    arg_parser.add_argument(\"-s\", \"--snapshot-path\", \n",
    "                        type=str, \n",
    "                        default=None, \n",
    "                        help=\"Incident rosbag file path. If None draw nothing.\")\n",
    "    # process .csv file\n",
    "    arg_parser.add_argument(\"-c\", \"--gps-csv-path\", \n",
    "                        type=str, \n",
    "                        default=None, \n",
    "                        help=\"get the GPS csv file.\")\n",
    "    arg_parser.add_argument(\"-i\", \"--incident-csv-path\", \n",
    "                        type=str, \n",
    "                        default=None, \n",
    "                        help=\"get the incident csv file.\")\n",
    "    return arg_parser.parse_args()"
   ]
  },
  {
   "cell_type": "code",
   "execution_count": 15,
   "metadata": {},
   "outputs": [
    {
     "name": "stderr",
     "output_type": "stream",
     "text": [
      "usage: ipykernel_launcher.py [-h] [-r ROSBAG_PATH] [-g GPS_TOPIC]\n",
      "                             [-t TIMESTAMP] [-o OUTPUT_PATH]\n",
      "                             [-s SNAPSHOT_PATH] [-c GPS_CSV_PATH]\n",
      "                             [-i INCIDENT_CSV_PATH]\n",
      "ipykernel_launcher.py: error: unrecognized arguments: --f=/home/kong/.local/share/jupyter/runtime/kernel-v3143995c76898a7fb1e0618c4238168e8a1e4006c.json\n"
     ]
    },
    {
     "ename": "SystemExit",
     "evalue": "2",
     "output_type": "error",
     "traceback": [
      "An exception has occurred, use %tb to see the full traceback.\n",
      "\u001b[0;31mSystemExit\u001b[0m\u001b[0;31m:\u001b[0m 2\n"
     ]
    }
   ],
   "source": [
    "ap = parse_args(['-r', 'rosbag_path', '-g', 'gps'])\n",
    "print(ap)"
   ]
  }
 ],
 "metadata": {
  "kernelspec": {
   "display_name": "base",
   "language": "python",
   "name": "python3"
  },
  "language_info": {
   "codemirror_mode": {
    "name": "ipython",
    "version": 3
   },
   "file_extension": ".py",
   "mimetype": "text/x-python",
   "name": "python",
   "nbconvert_exporter": "python",
   "pygments_lexer": "ipython3",
   "version": "3.12.2"
  }
 },
 "nbformat": 4,
 "nbformat_minor": 2
}
